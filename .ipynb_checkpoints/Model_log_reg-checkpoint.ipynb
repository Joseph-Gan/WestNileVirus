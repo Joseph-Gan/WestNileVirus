{
 "cells": [
  {
   "cell_type": "code",
   "execution_count": 1,
   "id": "62a4caa8",
   "metadata": {},
   "outputs": [],
   "source": [
    "import pandas as pd\n",
    "import numpy as np\n",
    "import matplotlib.pyplot as plt\n",
    "import seaborn as sns\n",
    "\n",
    "from sklearn.model_selection import GridSearchCV, train_test_split, cross_val_score\n",
    "from sklearn.model_selection import train_test_split\n",
    "from sklearn.linear_model import LogisticRegression\n",
    "from sklearn.preprocessing import StandardScaler\n",
    "import imblearn\n",
    "from imblearn.over_sampling import SMOTE\n",
    "from sklearn.pipeline import Pipeline\n",
    "from imblearn.pipeline import Pipeline as impipe\n",
    "from sklearn.metrics import confusion_matrix, plot_confusion_matrix\n",
    "from sklearn.metrics import f1_score, roc_auc_score, plot_roc_curve, recall_score\n",
    "\n",
    "# Generate and plot a synthetic imbalanced classification dataset\n",
    "from collections import Counter\n",
    "from numpy import where\n",
    "\n",
    "# Do not display future warnings\n",
    "import warnings\n",
    "warnings.simplefilter(action='ignore')\n",
    "\n",
    "from IPython.display import display\n",
    "pd.set_option('display.max_colwidth', None)"
   ]
  },
  {
   "cell_type": "code",
   "execution_count": 2,
   "id": "4b819682",
   "metadata": {},
   "outputs": [
    {
     "name": "stdout",
     "output_type": "stream",
     "text": [
      "0.8.1\n"
     ]
    }
   ],
   "source": [
    "print(imblearn.__version__)"
   ]
  },
  {
   "cell_type": "code",
   "execution_count": 6,
   "id": "261f3869",
   "metadata": {},
   "outputs": [],
   "source": [
    "df = pd.read_csv('asset/full_train.csv')"
   ]
  },
  {
   "cell_type": "code",
   "execution_count": 7,
   "id": "2d7560e8",
   "metadata": {},
   "outputs": [
    {
     "data": {
      "text/html": [
       "<div>\n",
       "<style scoped>\n",
       "    .dataframe tbody tr th:only-of-type {\n",
       "        vertical-align: middle;\n",
       "    }\n",
       "\n",
       "    .dataframe tbody tr th {\n",
       "        vertical-align: top;\n",
       "    }\n",
       "\n",
       "    .dataframe thead th {\n",
       "        text-align: right;\n",
       "    }\n",
       "</style>\n",
       "<table border=\"1\" class=\"dataframe\">\n",
       "  <thead>\n",
       "    <tr style=\"text-align: right;\">\n",
       "      <th></th>\n",
       "      <th>Unnamed: 0</th>\n",
       "      <th>species</th>\n",
       "      <th>trap</th>\n",
       "      <th>latitude</th>\n",
       "      <th>longitude</th>\n",
       "      <th>addressaccuracy</th>\n",
       "      <th>nummosquitos</th>\n",
       "      <th>wnvpresent</th>\n",
       "      <th>Station</th>\n",
       "      <th>Tmax</th>\n",
       "      <th>...</th>\n",
       "      <th>Cool</th>\n",
       "      <th>Sunrise</th>\n",
       "      <th>Sunset</th>\n",
       "      <th>SnowFall</th>\n",
       "      <th>PrecipTotal</th>\n",
       "      <th>StnPressure</th>\n",
       "      <th>SeaLevel</th>\n",
       "      <th>ResultSpeed</th>\n",
       "      <th>ResultDir</th>\n",
       "      <th>AvgSpeed</th>\n",
       "    </tr>\n",
       "  </thead>\n",
       "  <tbody>\n",
       "    <tr>\n",
       "      <th>0</th>\n",
       "      <td>2007-05-29</td>\n",
       "      <td>CULEX PIPIENS/RESTUANS</td>\n",
       "      <td>T048</td>\n",
       "      <td>41.867108</td>\n",
       "      <td>-87.654224</td>\n",
       "      <td>8</td>\n",
       "      <td>1</td>\n",
       "      <td>0</td>\n",
       "      <td>1.0</td>\n",
       "      <td>88.0</td>\n",
       "      <td>...</td>\n",
       "      <td>9.0</td>\n",
       "      <td>421.0</td>\n",
       "      <td>1917.0</td>\n",
       "      <td>0.0</td>\n",
       "      <td>0.0</td>\n",
       "      <td>29.39</td>\n",
       "      <td>30.11</td>\n",
       "      <td>5.8</td>\n",
       "      <td>18.0</td>\n",
       "      <td>6.5</td>\n",
       "    </tr>\n",
       "    <tr>\n",
       "      <th>1</th>\n",
       "      <td>2007-05-29</td>\n",
       "      <td>CULEX RESTUANS</td>\n",
       "      <td>T048</td>\n",
       "      <td>41.867108</td>\n",
       "      <td>-87.654224</td>\n",
       "      <td>8</td>\n",
       "      <td>2</td>\n",
       "      <td>0</td>\n",
       "      <td>1.0</td>\n",
       "      <td>88.0</td>\n",
       "      <td>...</td>\n",
       "      <td>9.0</td>\n",
       "      <td>421.0</td>\n",
       "      <td>1917.0</td>\n",
       "      <td>0.0</td>\n",
       "      <td>0.0</td>\n",
       "      <td>29.39</td>\n",
       "      <td>30.11</td>\n",
       "      <td>5.8</td>\n",
       "      <td>18.0</td>\n",
       "      <td>6.5</td>\n",
       "    </tr>\n",
       "    <tr>\n",
       "      <th>2</th>\n",
       "      <td>2007-05-29</td>\n",
       "      <td>CULEX RESTUANS</td>\n",
       "      <td>T091</td>\n",
       "      <td>41.862292</td>\n",
       "      <td>-87.648860</td>\n",
       "      <td>8</td>\n",
       "      <td>1</td>\n",
       "      <td>0</td>\n",
       "      <td>1.0</td>\n",
       "      <td>88.0</td>\n",
       "      <td>...</td>\n",
       "      <td>9.0</td>\n",
       "      <td>421.0</td>\n",
       "      <td>1917.0</td>\n",
       "      <td>0.0</td>\n",
       "      <td>0.0</td>\n",
       "      <td>29.39</td>\n",
       "      <td>30.11</td>\n",
       "      <td>5.8</td>\n",
       "      <td>18.0</td>\n",
       "      <td>6.5</td>\n",
       "    </tr>\n",
       "    <tr>\n",
       "      <th>3</th>\n",
       "      <td>2007-05-29</td>\n",
       "      <td>CULEX RESTUANS</td>\n",
       "      <td>T049</td>\n",
       "      <td>41.896282</td>\n",
       "      <td>-87.655232</td>\n",
       "      <td>8</td>\n",
       "      <td>1</td>\n",
       "      <td>0</td>\n",
       "      <td>1.0</td>\n",
       "      <td>88.0</td>\n",
       "      <td>...</td>\n",
       "      <td>9.0</td>\n",
       "      <td>421.0</td>\n",
       "      <td>1917.0</td>\n",
       "      <td>0.0</td>\n",
       "      <td>0.0</td>\n",
       "      <td>29.39</td>\n",
       "      <td>30.11</td>\n",
       "      <td>5.8</td>\n",
       "      <td>18.0</td>\n",
       "      <td>6.5</td>\n",
       "    </tr>\n",
       "    <tr>\n",
       "      <th>4</th>\n",
       "      <td>2007-05-29</td>\n",
       "      <td>CULEX RESTUANS</td>\n",
       "      <td>T153</td>\n",
       "      <td>41.907645</td>\n",
       "      <td>-87.760886</td>\n",
       "      <td>8</td>\n",
       "      <td>1</td>\n",
       "      <td>0</td>\n",
       "      <td>1.0</td>\n",
       "      <td>88.0</td>\n",
       "      <td>...</td>\n",
       "      <td>9.0</td>\n",
       "      <td>421.0</td>\n",
       "      <td>1917.0</td>\n",
       "      <td>0.0</td>\n",
       "      <td>0.0</td>\n",
       "      <td>29.39</td>\n",
       "      <td>30.11</td>\n",
       "      <td>5.8</td>\n",
       "      <td>18.0</td>\n",
       "      <td>6.5</td>\n",
       "    </tr>\n",
       "  </tbody>\n",
       "</table>\n",
       "<p>5 rows × 26 columns</p>\n",
       "</div>"
      ],
      "text/plain": [
       "   Unnamed: 0                 species  trap   latitude  longitude  \\\n",
       "0  2007-05-29  CULEX PIPIENS/RESTUANS  T048  41.867108 -87.654224   \n",
       "1  2007-05-29          CULEX RESTUANS  T048  41.867108 -87.654224   \n",
       "2  2007-05-29          CULEX RESTUANS  T091  41.862292 -87.648860   \n",
       "3  2007-05-29          CULEX RESTUANS  T049  41.896282 -87.655232   \n",
       "4  2007-05-29          CULEX RESTUANS  T153  41.907645 -87.760886   \n",
       "\n",
       "   addressaccuracy  nummosquitos  wnvpresent  Station  Tmax  ...  Cool  \\\n",
       "0                8             1           0      1.0  88.0  ...   9.0   \n",
       "1                8             2           0      1.0  88.0  ...   9.0   \n",
       "2                8             1           0      1.0  88.0  ...   9.0   \n",
       "3                8             1           0      1.0  88.0  ...   9.0   \n",
       "4                8             1           0      1.0  88.0  ...   9.0   \n",
       "\n",
       "   Sunrise  Sunset  SnowFall  PrecipTotal  StnPressure  SeaLevel  ResultSpeed  \\\n",
       "0    421.0  1917.0       0.0          0.0        29.39     30.11          5.8   \n",
       "1    421.0  1917.0       0.0          0.0        29.39     30.11          5.8   \n",
       "2    421.0  1917.0       0.0          0.0        29.39     30.11          5.8   \n",
       "3    421.0  1917.0       0.0          0.0        29.39     30.11          5.8   \n",
       "4    421.0  1917.0       0.0          0.0        29.39     30.11          5.8   \n",
       "\n",
       "   ResultDir  AvgSpeed  \n",
       "0       18.0       6.5  \n",
       "1       18.0       6.5  \n",
       "2       18.0       6.5  \n",
       "3       18.0       6.5  \n",
       "4       18.0       6.5  \n",
       "\n",
       "[5 rows x 26 columns]"
      ]
     },
     "execution_count": 7,
     "metadata": {},
     "output_type": "execute_result"
    }
   ],
   "source": [
    "df.head()"
   ]
  },
  {
   "cell_type": "code",
   "execution_count": null,
   "id": "afd3d9ed",
   "metadata": {},
   "outputs": [],
   "source": [
    "df.drop(columns = 'Unnamed: 0', inplace = True)"
   ]
  },
  {
   "cell_type": "code",
   "execution_count": null,
   "id": "ed40fa85",
   "metadata": {},
   "outputs": [],
   "source": [
    "df['wnvpresent'].value_counts(normalize = True)  #data is heavily imbalance"
   ]
  },
  {
   "cell_type": "markdown",
   "id": "9c6c1750",
   "metadata": {},
   "source": [
    "### SMOTE"
   ]
  },
  {
   "cell_type": "code",
   "execution_count": null,
   "id": "fca3244d",
   "metadata": {},
   "outputs": [],
   "source": [
    "x = df.drop(columns = 'wnvpresent')\n",
    "y = df['wnvpresent']"
   ]
  },
  {
   "cell_type": "code",
   "execution_count": null,
   "id": "8734cb43",
   "metadata": {},
   "outputs": [],
   "source": [
    "print(x.shape)\n",
    "print(y.shape)"
   ]
  },
  {
   "cell_type": "code",
   "execution_count": null,
   "id": "4648e2e3",
   "metadata": {},
   "outputs": [],
   "source": [
    "#counter = Counter(y)\n",
    "#print(counter)"
   ]
  },
  {
   "cell_type": "code",
   "execution_count": null,
   "id": "2eebd796",
   "metadata": {},
   "outputs": [],
   "source": [
    "#for label, _ in counter.items():\n",
    "#    row_ix = where(x == label)[0]\n",
    "#    plt.scatter(y[row_ix:, 0], y[row_ix:, 1], label=str(label))\n",
    "#plt.legend()\n",
    "#plt.show()"
   ]
  },
  {
   "cell_type": "code",
   "execution_count": null,
   "id": "0338c19f",
   "metadata": {},
   "outputs": [],
   "source": [
    "x_train, x_test, y_train, y_test = train_test_split(x, y, random_state = 42)"
   ]
  },
  {
   "cell_type": "code",
   "execution_count": null,
   "id": "1440ee56",
   "metadata": {},
   "outputs": [],
   "source": [
    "#sc = MinMaxScaler()\n",
    "#z_train = sc.fit_transform(x_train)\n",
    "#z_test = sc.transform(x_test)"
   ]
  },
  {
   "cell_type": "code",
   "execution_count": null,
   "id": "bfffa93f",
   "metadata": {},
   "outputs": [],
   "source": [
    "print(f'z_train shape is: {x_train.shape}')\n",
    "print(f'y_train shape is: {y_train.shape}')\n",
    "print(f'z_test shape is: {x_test.shape}')\n",
    "print(f'y_test shape is: {y_test.shape}')"
   ]
  },
  {
   "cell_type": "code",
   "execution_count": null,
   "id": "249fa157",
   "metadata": {},
   "outputs": [],
   "source": [
    "#counter0 = Counter(y_train)\n",
    "#print(counter)"
   ]
  },
  {
   "cell_type": "code",
   "execution_count": null,
   "id": "4905043c",
   "metadata": {},
   "outputs": [],
   "source": [
    "#for label, _ in counter0.items():\n",
    "#    row_ix = where(y_train == label)[0]\n",
    "#    plt.scatter(z_train[:, 0], z_train[:,1], label=str(label))\n",
    "#plt.legend()\n",
    "#plt.show()"
   ]
  },
  {
   "cell_type": "markdown",
   "id": "5cde7214",
   "metadata": {},
   "source": [
    "counter = Counter(y_train)\n",
    "print('Before', counter)\n",
    "\n",
    "smt= SMOTE()\n",
    "z_train_sm, y_train_sm = smt.fit_resample(z_train,y_train)\n",
    "\n",
    "counter = Counter(y_train_sm)\n",
    "print('After', counter)"
   ]
  },
  {
   "cell_type": "code",
   "execution_count": null,
   "id": "c994cc58",
   "metadata": {},
   "outputs": [],
   "source": [
    "#for label, _ in counter.items():\n",
    "#    row_ix = where(y_train_sm == label)[0]\n",
    "#    plt.scatter(z_train_sm[row_ix, 0], z_train_sm[row_ix,1], label = str(label))\n",
    "#plt.legend()\n",
    "#plt.show()"
   ]
  },
  {
   "cell_type": "code",
   "execution_count": null,
   "id": "0cf2879f",
   "metadata": {},
   "outputs": [],
   "source": [
    "df['wnvpresent'].value_counts(normalize = True) "
   ]
  },
  {
   "cell_type": "code",
   "execution_count": null,
   "id": "771bf8f6",
   "metadata": {},
   "outputs": [],
   "source": [
    "def plot_model(model, x_test, y_test):\n",
    "    fig, (ax1, ax2) = plt.subplots(1, 2, figsize=(16,7))\n",
    "    \n",
    "    #Plot ROC curve\n",
    "    ax1.set_title('ROC Curve')\n",
    "    plot_roc_curve(model, x_test, y_test, ax = ax1)\n",
    "    ax1.plot([0, 1], [0, 1],label='baseline', linestyle='--')\n",
    "    ax1.legend()\n",
    "\n",
    "    #Plot confusion matrix\n",
    "    ax2.set_title('Confusion Matrix')\n",
    "    y_labeled = y_test.map({1:'WNV Present', 0:'WNV Not Present'})\n",
    "    y_pred = pd.Series(model.predict(x_test)).map({1:'WNV Present', 0:'WNV Not Present'})\n",
    "    cm = confusion_matrix(y_labeled, y_pred)\n",
    "    sns.heatmap(cm, annot=True, fmt='g', ax=ax2, cmap='Blues')\n",
    "    ax2.set_xlabel('Predicted labels')\n",
    "    ax2.set_ylabel('True labels')\n",
    "    ax2.xaxis.set_ticklabels(['WNV Not Present', 'WNV Present']) \n",
    "    ax2.yaxis.set_ticklabels(['WNV Not Present', 'WNV Present'])\n",
    "    plt.show();"
   ]
  },
  {
   "cell_type": "code",
   "execution_count": null,
   "id": "ce1a84b8",
   "metadata": {},
   "outputs": [],
   "source": [
    "def recall(model, X_train, y_train, X_test, y_test):\n",
    "    print('Train Recall: ', round(recall_score(y_train, model.predict(X_train)),5))\n",
    "    print('Test Recall: ', round(recall_score(y_test, model.predict(X_test)),5))\n",
    "    print('Cross Val Recall:', round(cross_val_score(model, X_test,y_test, scoring = 'recall').mean(),5))"
   ]
  },
  {
   "cell_type": "code",
   "execution_count": null,
   "id": "8e85ad65",
   "metadata": {},
   "outputs": [],
   "source": [
    "def run_model(name, gs_model):\n",
    "        x_train,x_test,y_train,y_test=train_test_split(x,y,random_state=42)\n",
    "        print('x_train',x_train.shape)\n",
    "        print('x_test',x_test.shape)\n",
    "        \n",
    "        #scale\n",
    "        ss = StandardScaler()\n",
    "        xs_train = ss.fit_transform(x_train)\n",
    "        xs_test = ss.transform(x_test)\n",
    "        \n",
    "        #smote\n",
    "        smt=SMOTE(random_state=42)\n",
    "        xsm_train,ysm_train=smt.fit_resample(xs_train,y_train)\n",
    "        \n",
    "        #fit model\n",
    "        gs_model.fit(xs_train,y_train)\n",
    "        best_model = gs_model.best_estimator_\n",
    "        \n",
    "        #print best parameters\n",
    "        print('best parameters: ' ,gs_model.best_params_)\n",
    "        best_model.fit(xsm_train, ysm_train)\n",
    "        recall(best_model, xsm_train, ysm_train, xs_test, y_test)\n",
    "        roc_auc_score(y_test, gs_model(xs_test)[:, 1])\n",
    "        plot_model(best_model, xs_test, y_test)\n",
    "        model_name = name + ' '\n",
    "        #add_model(model_name, best_model, xs_test, ytest)"
   ]
  },
  {
   "cell_type": "code",
   "execution_count": null,
   "id": "c8745c25",
   "metadata": {},
   "outputs": [],
   "source": [
    "#set pipeline\n",
    "lr_pipe = impipe([\n",
    "        ('sampling', SMOTE(random_state = 10)),\n",
    "        ('lr', LogisticRegression(random_state = 42))])"
   ]
  },
  {
   "cell_type": "code",
   "execution_count": null,
   "id": "9b2f2440",
   "metadata": {},
   "outputs": [],
   "source": [
    "#Set parameter\n",
    "params_logreg = {\n",
    "            #'logreg__penalty': ['l1', 'l2'],\n",
    "            'lr__C': [0.02, 0.003, 0.01],\n",
    "            'lr__solver' : ['newton-cg','liblinear','saga', 'sag', 'lbfgs'],\n",
    "            'lr__multi_class': ['multinomial', 'ovr', 'auto']\n",
    "}"
   ]
  },
  {
   "cell_type": "code",
   "execution_count": null,
   "id": "2fbd547c",
   "metadata": {},
   "outputs": [],
   "source": [
    "#Instatiate 5-fold GridSearchCV.\n",
    "gs_lr = GridSearchCV(lr_pipe, param_grid = params_logreg, cv=5,\n",
    "                     scoring='roc_auc',n_jobs=-1,\n",
    "                     verbose=1)"
   ]
  },
  {
   "cell_type": "code",
   "execution_count": null,
   "id": "e23b9abb",
   "metadata": {},
   "outputs": [],
   "source": [
    "run_model('log_reg', gs_lr)"
   ]
  },
  {
   "cell_type": "code",
   "execution_count": null,
   "id": "b94bedac",
   "metadata": {},
   "outputs": [],
   "source": [
    "gs_lr.best_estimator_.named_steps.lr.coef_"
   ]
  },
  {
   "cell_type": "code",
   "execution_count": null,
   "id": "e18ec922",
   "metadata": {},
   "outputs": [],
   "source": [
    "y1 = gs_lr.best_estimator_.named_steps.lr.coef_"
   ]
  },
  {
   "cell_type": "code",
   "execution_count": null,
   "id": "8e105d47",
   "metadata": {},
   "outputs": [],
   "source": [
    "x1 = x_train.columns"
   ]
  },
  {
   "cell_type": "code",
   "execution_count": null,
   "id": "0806611e",
   "metadata": {},
   "outputs": [],
   "source": [
    "y1.shape"
   ]
  },
  {
   "cell_type": "code",
   "execution_count": null,
   "id": "6b4a71dd",
   "metadata": {},
   "outputs": [],
   "source": [
    "y1 = np.reshape(y1,-1)"
   ]
  },
  {
   "cell_type": "code",
   "execution_count": null,
   "id": "9fa05f5e",
   "metadata": {},
   "outputs": [],
   "source": [
    "lr_coefficient = sorted(zip(map(lambda x: round(x, 4), y1), \n",
    "                 x.columns), reverse=True)[:10]\n",
    "\n",
    "print(lr_coefficient)"
   ]
  },
  {
   "cell_type": "code",
   "execution_count": null,
   "id": "2b860015",
   "metadata": {},
   "outputs": [],
   "source": [
    "lr_feature = pd.DataFrame(data = lr_coefficient, columns = ['Values','features'])\n",
    "lr_feature"
   ]
  },
  {
   "cell_type": "code",
   "execution_count": null,
   "id": "92522518",
   "metadata": {},
   "outputs": [],
   "source": [
    "y1.shape"
   ]
  },
  {
   "cell_type": "code",
   "execution_count": null,
   "id": "d12760c4",
   "metadata": {},
   "outputs": [],
   "source": [
    "sns.barplot(x = lr_feature['Values'], y= lr_feature['features'])"
   ]
  }
 ],
 "metadata": {
  "kernelspec": {
   "display_name": "Python 3",
   "language": "python",
   "name": "python3"
  },
  "language_info": {
   "codemirror_mode": {
    "name": "ipython",
    "version": 3
   },
   "file_extension": ".py",
   "mimetype": "text/x-python",
   "name": "python",
   "nbconvert_exporter": "python",
   "pygments_lexer": "ipython3",
   "version": "3.8.8"
  }
 },
 "nbformat": 4,
 "nbformat_minor": 5
}
